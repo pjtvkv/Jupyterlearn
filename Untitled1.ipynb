{
 "cells": [
  {
   "cell_type": "markdown",
   "id": "217d6806-21b9-4764-9936-53c33b22e1f1",
   "metadata": {},
   "source": [
    "# Day 1 – The Why and What of AsyncIO"
   ]
  },
  {
   "cell_type": "markdown",
   "id": "dc74125d-98ad-4e85-9d1c-eff84f2813c4",
   "metadata": {},
   "source": [
    "# 🎯 Goal\n",
    "\n",
    "Understand:\n",
    "\t•\tWhat is synchronous vs. asynchronous code\n",
    "\t•\tHow the event loop works\n",
    "\t•\tHow to use async def, await, and asyncio.run()"
   ]
  },
  {
   "cell_type": "markdown",
   "id": "b6ce336c-906f-4823-af1e-16df4757cf22",
   "metadata": {},
   "source": [
    "## 📘 1. The Problem: Blocking Code\n",
    "\n",
    "In synchronous Python, each line blocks the next one until it finish"
   ]
  },
  {
   "cell_type": "code",
   "execution_count": 2,
   "id": "bf7aee72-b8b4-4622-87c4-179ad4b63c9f",
   "metadata": {},
   "outputs": [
    {
     "name": "stdout",
     "output_type": "stream",
     "text": [
      "Starting A\n",
      "Finished A\n",
      "Starting B\n",
      "Finished B\n",
      "Starting C\n",
      "Finished C\n"
     ]
    }
   ],
   "source": [
    "import time\n",
    "\n",
    "def task(name):\n",
    "    print(f\"Starting {name}\")\n",
    "    time.sleep(2)  # blocks the program for 2 seconds\n",
    "    print(f\"Finished {name}\")\n",
    "\n",
    "def main():\n",
    "    task(\"A\")\n",
    "    task(\"B\")\n",
    "    task(\"C\")\n",
    "\n",
    "main()"
   ]
  },
  {
   "cell_type": "markdown",
   "id": "8ec9f2e0-5ecc-4466-9979-184aa1988b4c",
   "metadata": {},
   "source": [
    "## 2. The AsyncIO Approach"
   ]
  },
  {
   "cell_type": "code",
   "execution_count": 4,
   "id": "8bfe982f-d842-4ba3-8f05-fb7354264dff",
   "metadata": {},
   "outputs": [
    {
     "name": "stdout",
     "output_type": "stream",
     "text": [
      "Starting A\n",
      "Starting B\n",
      "Starting C\n",
      "Finished A\n",
      "Finished B\n",
      "Finished C\n"
     ]
    }
   ],
   "source": [
    "import asyncio\n",
    "\n",
    "async def task(name):\n",
    "    print(f\"Starting {name}\")\n",
    "    await asyncio.sleep(2)  # non-blocking sleep\n",
    "    print(f\"Finished {name}\")\n",
    "\n",
    "async def main():\n",
    "    await asyncio.gather(\n",
    "        task(\"A\"),\n",
    "        task(\"B\"),\n",
    "        task(\"C\")\n",
    "    )\n",
    "\n",
    "await main()   #asyncio.run(main())"
   ]
  },
  {
   "cell_type": "code",
   "execution_count": null,
   "id": "796865de-8e56-447d-b122-672aed6e18c7",
   "metadata": {},
   "outputs": [],
   "source": []
  }
 ],
 "metadata": {
  "kernelspec": {
   "display_name": "Python 3 (ipykernel)",
   "language": "python",
   "name": "python3"
  },
  "language_info": {
   "codemirror_mode": {
    "name": "ipython",
    "version": 3
   },
   "file_extension": ".py",
   "mimetype": "text/x-python",
   "name": "python",
   "nbconvert_exporter": "python",
   "pygments_lexer": "ipython3",
   "version": "3.11.14"
  }
 },
 "nbformat": 4,
 "nbformat_minor": 5
}
