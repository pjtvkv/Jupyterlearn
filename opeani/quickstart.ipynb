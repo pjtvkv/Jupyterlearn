{
 "cells": [
  {
   "cell_type": "markdown",
   "id": "6d1b0047-7dbb-4d17-abfb-143d619dd893",
   "metadata": {},
   "source": [
    "# Response api"
   ]
  },
  {
   "cell_type": "code",
   "execution_count": 1,
   "id": "c7600a60-d018-4ee0-b8a5-bc83b9c369d7",
   "metadata": {},
   "outputs": [
    {
     "name": "stdout",
     "output_type": "stream",
     "text": [
      "Under a hush of moonlight, a gentle unicorn with a mane like twilight drifted through the silver meadow, sprinkling sleepy stars that curled into sweet dreams for every child.\n"
     ]
    }
   ],
   "source": [
    "from openai import OpenAI\n",
    "client = OpenAI()\n",
    "\n",
    "response = client.responses.create(\n",
    "    model=\"gpt-5\",\n",
    "    input=\"Write a one-sentence bedtime story about a unicorn.\"\n",
    ")\n",
    "\n",
    "print(response.output_text)"
   ]
  },
  {
   "cell_type": "markdown",
   "id": "2ceb46f4-6938-42c9-845f-016366346e1a",
   "metadata": {},
   "source": [
    "# Analyze images and files"
   ]
  },
  {
   "cell_type": "code",
   "execution_count": 2,
   "id": "f3ddbbe2-cc49-409c-bc2d-2e38ed32ca11",
   "metadata": {},
   "outputs": [
    {
     "name": "stdout",
     "output_type": "stream",
     "text": [
      "Cleveland Cavaliers vs. Brooklyn Nets.\n"
     ]
    }
   ],
   "source": [
    "from openai import OpenAI\n",
    "client = OpenAI()\n",
    "\n",
    "response = client.responses.create(\n",
    "    model=\"gpt-5\",\n",
    "    input=[\n",
    "        {\n",
    "            \"role\": \"user\",\n",
    "            \"content\": [\n",
    "                {\n",
    "                    \"type\": \"input_text\",\n",
    "                    \"text\": \"What teams are playing in this image?\",\n",
    "                },\n",
    "                {\n",
    "                    \"type\": \"input_image\",\n",
    "                    \"image_url\": \"https://upload.wikimedia.org/wikipedia/commons/3/3b/LeBron_James_Layup_%28Cleveland_vs_Brooklyn_2018%29.jpg\"\n",
    "                }\n",
    "            ]\n",
    "        }\n",
    "    ]\n",
    ")\n",
    "\n",
    "print(response.output_text)"
   ]
  },
  {
   "cell_type": "markdown",
   "id": "8b0c941b-1f8e-4d11-a777-22ac9f3015bc",
   "metadata": {},
   "source": [
    "# Extend modesl with tools"
   ]
  },
  {
   "cell_type": "code",
   "execution_count": null,
   "id": "cac004f5-cb60-4f76-8977-89ed9be3db1b",
   "metadata": {},
   "outputs": [],
   "source": [
    "from openai import OpenAI\n",
    "client = OpenAI()\n",
    "\n",
    "response = client.responses.create(\n",
    "    model=\"gpt-5\",\n",
    "    tools=[{\"type\": \"web_search\"}],\n",
    "    input=\"What was a positive news story from today?\"\n",
    ")\n",
    "\n",
    "print(response.output_text)"
   ]
  }
 ],
 "metadata": {
  "kernelspec": {
   "display_name": "Python 3 (ipykernel)",
   "language": "python",
   "name": "python3"
  },
  "language_info": {
   "codemirror_mode": {
    "name": "ipython",
    "version": 3
   },
   "file_extension": ".py",
   "mimetype": "text/x-python",
   "name": "python",
   "nbconvert_exporter": "python",
   "pygments_lexer": "ipython3",
   "version": "3.11.14"
  }
 },
 "nbformat": 4,
 "nbformat_minor": 5
}
